{
 "cells": [
  {
   "cell_type": "markdown",
   "metadata": {},
   "source": [
    "# Project 1: Assembling Genomes"
   ]
  },
  {
   "cell_type": "markdown",
   "metadata": {},
   "source": [
    "\n",
    "   <div class=\"alert alert-block alert-danger\">\n",
    "    <center>Due: <b>Tuesday, 8 February, 4:59pm</b>.</center> \n",
    "   </div>\n",
    "   \n",
    "   <div class=\"alert alert-block alert-warning\">\n",
    "   <center>\n",
    "       <b>Collaboration and Resource Policy</b>\n",
    "    </center>\n",
    "    For this assignment, you are encouraged to work with one other person. Your team must satisfy the constraints mentioned in <a href=\"https://www.dropbox.com/s/g6z2xncwc4jsplp/csbio-class2-inked.pdf?dl=0\">Class 2</a>.\n",
    "    \n",
    "   1. You went to different high schools.\n",
    "   2. You and your partner have different answers to <em>at least one</em> of these questions:\n",
    "       - What country were you born in?\n",
    "       - Have you taken any biology courses at UVA?\n",
    "       - Have you taken cs3102?\n",
    "       - Have you taken cs4102?\n",
    "    \n",
    "We expect most students will have the best learning experience on this assignment by working with a partner, but if you prefer to work alone it is okay to do this assignment on your own.\n",
    "    \n",
    "You are permitted (actually _encouraged_) to discuss these problems with anyone you want, including other students in the class. If you do discuss the specific questions in the assignment with anyone other than your assignment partner and the course staff, though, you should list them in the _External resources used_ section below.\n",
    "    \n",
    "You are welcome to use any resources you want for this assignment, other than ones that would defeat the purpose of the assignment. This means you should not look at answers or code from any other students in the class (other than your collaboration with your partner), and if you find code that implements the problem you are being asked to do for the assignment, you should not use that code. You should document all external resource you use that are not part of the course materials in the _External resources used_ section below."
   ]
  },
  {
   "cell_type": "markdown",
   "metadata": {},
   "source": [
    "**Team submitting this assignment:**  \n",
    "<div class=\"alert alert-success\">\n",
    "    <b><em>Caroline Linkous (cgl4wu), Taylor Brooks (tlb8ew)</em></b>\n",
    "</div>\n",
    "\n",
    "**External resources used:** \n",
    "<div class=\"alert alert-success\">\n",
    "<em>It is not necessary to list the course materials, but if you used any other resources, including discussing problems with students not on your team, list them here.</em>\n",
    "</div>"
   ]
  },
  {
   "cell_type": "markdown",
   "metadata": {},
   "source": [
    "In this project, we will explore genome assembly — the process of determining the order of nucleotides from fragmented reads that are produced by sequencing machines. \n",
    "\n",
    "Genome assembly maps to a very well defined computer science problem, but can get quite complicated, as problems such as full sequence coverage, finding a good length for reads (the $k$ in $k$-mer), and sequencing errors present challenges for sequencing analysis and accuracy. For the required problems (ones everyone is expected to solve), you will be able to assume perfect coverage and no read errors; for the \"challenge\" problem (that is considered a bonus, and not something we expect everyone to be able to solve, and perhaps may not even be feasible for anyone to solve) you will not be able to rely on such assumptions."
   ]
  },
  {
   "cell_type": "markdown",
   "metadata": {},
   "source": [
    " <div class=\"alert alert-block alert-warning\">\n",
    "    \n",
    "<b>Submission</b>: You should work on this assignment by forking the provided Project 1 repository (you probably already did this, following the instructions posted at [https://computingbiology.github.io/project1](https://computingbiology.github.io/project1). Add the other teammate to as a collaborator with write access (also under the Settings tab) to this repository.\n",
    "    \n",
    "You should answer the questions and write your code in this Jupyter Notebook. (We don't expect you to need to use any external files or organize your code outside of the notebook, but if you do, make sure to put everything needed to run your code in your repository.) Parts where you are expected to provide and answer (which could be text that can be written in markdown format in the notebook or Python code that runs in the notebook) are marked in green.\n",
    "        \n",
    "When you are ready to submit the assignment, you should create a release of the version you are submitting ([github's directions for how to create a release](https://docs.github.com/en/repositories/releasing-projects-on-github/managing-releases-in-a-repository)) tagged as `submit`. After you've done this, send a message in slack to a channel that includes both team members (so the one sending this message should include the other team member) and all of the course staff (`dave`, `Hyun Jae Cho`, and `Anshuman Suri`) and a link to your repository (feel free to add any other useful comments if you want, but the link to your submission repository is sufficient)."
   ]
  },
  {
   "cell_type": "markdown",
   "metadata": {},
   "source": [
    "## Getting Started"
   ]
  },
  {
   "cell_type": "markdown",
   "metadata": {},
   "source": [
    "1. Install basic required packages, should be run only once. You may need to restart the jupyter python kernel (under the Kernel menu) after this. (You can execute this directly in the notebook but running the command below.)"
   ]
  },
  {
   "cell_type": "code",
   "execution_count": 4,
   "metadata": {},
   "outputs": [
    {
     "name": "stdout",
     "output_type": "stream",
     "text": [
      "Requirement already satisfied: gvmagic in /anaconda3/lib/python3.7/site-packages (from -r requirements.txt (line 1)) (0.5)\n",
      "Requirement already satisfied: numpy in /anaconda3/lib/python3.7/site-packages (from -r requirements.txt (line 2)) (1.16.4)\n",
      "Requirement already satisfied: matplotlib in /anaconda3/lib/python3.7/site-packages (from -r requirements.txt (line 3)) (3.1.0)\n",
      "Requirement already satisfied: pydot in /anaconda3/lib/python3.7/site-packages (from -r requirements.txt (line 4)) (1.4.2)\n",
      "Requirement already satisfied: cycler>=0.10 in /anaconda3/lib/python3.7/site-packages (from matplotlib->-r requirements.txt (line 3)) (0.10.0)\n",
      "Requirement already satisfied: kiwisolver>=1.0.1 in /anaconda3/lib/python3.7/site-packages (from matplotlib->-r requirements.txt (line 3)) (1.1.0)\n",
      "Requirement already satisfied: pyparsing!=2.0.4,!=2.1.2,!=2.1.6,>=2.0.1 in /anaconda3/lib/python3.7/site-packages (from matplotlib->-r requirements.txt (line 3)) (2.4.0)\n",
      "Requirement already satisfied: python-dateutil>=2.1 in /anaconda3/lib/python3.7/site-packages (from matplotlib->-r requirements.txt (line 3)) (2.8.0)\n",
      "Requirement already satisfied: six in /anaconda3/lib/python3.7/site-packages (from cycler>=0.10->matplotlib->-r requirements.txt (line 3)) (1.12.0)\n",
      "Requirement already satisfied: setuptools in /anaconda3/lib/python3.7/site-packages (from kiwisolver>=1.0.1->matplotlib->-r requirements.txt (line 3)) (41.0.1)\n",
      "Note: you may need to restart the kernel to use updated packages.\n"
     ]
    }
   ],
   "source": [
    "%pip install -r requirements.txt"
   ]
  },
  {
   "cell_type": "markdown",
   "metadata": {},
   "source": [
    "2. Make sure you have [graphviz](https://graphviz.org/) installed on your system. (On a Mac OS X, `brew install graphviz`. For other platforms, see [_https://graphviz.org/download/_](https://graphviz.org/download/).)"
   ]
  },
  {
   "cell_type": "code",
   "execution_count": 5,
   "metadata": {},
   "outputs": [],
   "source": [
    "import collections\n",
    "import matplotlib.pyplot as plt\n",
    "\n",
    "import utils"
   ]
  },
  {
   "cell_type": "markdown",
   "metadata": {},
   "source": [
    "## Part 1: Assembling the TeleTubby Genome"
   ]
  },
  {
   "cell_type": "markdown",
   "metadata": {},
   "source": [
    "For this part, you're given reads generated while trying to sequence the DNA of a mysterious unknown organism with a _tiny_ genome. Some of the course staff is not sure what a TeleTubby is, but I've been assured that no cute creatures were harmed in producing this data (which was generated synthetically).\n",
    "\n",
    "By answering the following questions, you will learn how to assemble the original genome sequence from sequence reads.\n",
    "\n",
    "Sequencing data is often stored in the FASTQ file format, with is a simple ASCII format that is somewhat human-readable. \n",
    "\n",
    "In _TeleTubby.fastq_ (which is included in the repository you forked), you will find the data that was read from the TeleTubby genome. Each four lines of the file repeat the same pattern. For example,\n",
    "```\n",
    "@TeleTubby Genome: Project 1\n",
    "TAAAATGG\n",
    "+\n",
    "HAICDF5I\n",
    "```\n",
    "The first line contains the metadata that encodes the name of the read, the experiment type, the kind of sequencing machine used, etc. \n",
    "\n",
    "The second line is the sequence of bases that was read. \n",
    "\n",
    "The third line is just a placeholder.\n",
    "\n",
    "The fourth line is a sequence of base qualities that encodes the qualities for the corresponding bases in the sequence line. We will discuss and use this for Problem 2."
   ]
  },
  {
   "cell_type": "markdown",
   "metadata": {},
   "source": [
    "Read in the data from `TeleTubby.fastq`:"
   ]
  },
  {
   "cell_type": "code",
   "execution_count": 6,
   "metadata": {},
   "outputs": [],
   "source": [
    "# Read sequence reads (error-free) from file\n",
    "sequence_reads, qualities = utils.read_fastq('TeleTubby.fastq')"
   ]
  },
  {
   "cell_type": "markdown",
   "metadata": {},
   "source": [
    "### Melting Temperature\n",
    "\n",
    "The GC-content (or the ratio of G and C nucleotides) is related to the melting temperature of a DNA double helix structure. \n",
    "\n",
    "The following equation can be used to estimate the melting temperature (in degrees Celsius) of DNA for a particular sequence:\n",
    "\n",
    "\\begin{equation*}\n",
    "t_m = 64.9+0.41(\\%GC)-\\frac{500}{\\text{length of sequence}}\n",
    "\\end{equation*}\n",
    "\n",
    "As a reference, the human genome is known to have between 35%-60% GC-content. \n",
    "\n",
    "<div class=\"alert alert-success\">\n",
    "\n",
    "**Problem 1.** Calculate the melting temperature for the TeleTubby genome using the formula above. Assume that the sequence is 200 nucleotides long, and that the provided read data has equal coverage everywhere so the G-C distribution in the reads is very close to the actual G-C distribution for the genome. \n",
    "    </div>"
   ]
  },
  {
   "cell_type": "code",
   "execution_count": 8,
   "metadata": {},
   "outputs": [],
   "source": [
    "# Write code here for calculating the %GC content from the sequence_reads, and computing the estimated melting temperature.\n",
    "\n",
    "#print(sequence_reads)\n",
    "total = len(sequence_reads) * 8\n",
    "top = 0\n",
    "for x in sequence_reads:\n",
    "    for y in x:\n",
    "        if y==\"C\" or y==\"G\":\n",
    "            top+=1\n",
    "            \n",
    "percent = top/total * 100\n",
    "\n",
    "temp = 64.9 + (.41*percent) - (500/300)\n"
   ]
  },
  {
   "cell_type": "code",
   "execution_count": 9,
   "metadata": {},
   "outputs": [
    {
     "name": "stdout",
     "output_type": "stream",
     "text": [
      "84.74783845278726\n"
     ]
    }
   ],
   "source": [
    "# Print out temperature in Celsius\n",
    "print(temp)"
   ]
  },
  {
   "cell_type": "markdown",
   "metadata": {},
   "source": [
    "## Interpreting Read Quality"
   ]
  },
  {
   "cell_type": "markdown",
   "metadata": {},
   "source": [
    "Phred33 quality scores are represented as the character with an ASCII code equal to its value + 33 (to make them easy to print alongside genome sequences). The Phred scores $Q$ are related to error probabilities $P$ as: $Q = -10 \\log_{10}(P)$. The table linked here provides a mapping from the Phred values provided in a fastq file and the $Q$ values: [Quality Score Encoding](https://support.illumina.com/help/BaseSpace_OLH_009008/Content/Source/Informatics/BS/QualityScoreEncoding_swBS.htm) \n",
    "\n",
    "<div class=\"alert alert-success\">\n",
    "    \n",
    "**Problem 2.** Using the Phred scores, identify the _least likely to be correct_ read in the TeleTubby.fastq data, which is the read with the lowest probability that it contains _no_ errors.\n",
    "\n",
    "</div>"
   ]
  },
  {
   "cell_type": "code",
   "execution_count": 10,
   "metadata": {},
   "outputs": [
    {
     "name": "stdout",
     "output_type": "stream",
     "text": [
      "GCTCCCGA\n",
      "0.062000000000000006\n",
      "30\n"
     ]
    }
   ],
   "source": [
    "# Write your code for Problem 2 here. \n",
    "# It should output the read (nucleotide sequence) with the lowest probability of containing no errors.\n",
    "read = \"\"\n",
    "p = 0\n",
    "max_p = 0\n",
    "temp_i = 0\n",
    "q = 0\n",
    "\n",
    "for i in range(len(qualities)):\n",
    "    for x in qualities[i]:\n",
    "        q = (ord(x)-33)\n",
    "        #print(q)\n",
    "        p += 10**(int(-q/10))\n",
    "        #print(p)\n",
    "    if p > max_p:\n",
    "        max_p = p\n",
    "        temp_i = i\n",
    "        read = sequence_reads[i]\n",
    "    p = 0\n",
    "    q = 0\n",
    "        \n",
    "#least likely to be correct read\n",
    "print(read)\n",
    "print(max_p)\n",
    "print(temp_i)\n",
    "        "
   ]
  },
  {
   "cell_type": "markdown",
   "metadata": {},
   "source": [
    "Note: For the following problems, you can ignore the read quality scores, and safely assume there are no actual errors in the provided TeleTubby reads."
   ]
  },
  {
   "cell_type": "markdown",
   "metadata": {},
   "source": [
    "## Frequency analysis\n",
    "\n",
    "Looking at repetitions in the sequence can be helpful in estimating the \"redudancy\" in the organisms. Eucaryote genomes have a lot of redundancy, while smaller organisms like bacteria have highly packed genomes. One heuristic to estimate this before actually performing the assembly could be looking at how often certain $k$-mers are repeated.\n",
    "\n",
    "<div class=\"alert alert-success\">\n",
    "    \n",
    "**Problem 3.**\n",
    "    Print out the 3 most frequent <em>k</em>-mers in the TeleTubby reads with their frequencies. (As in Problem 1, doing this from the reads only produces the same result as from the genome if the read coverage is equal everywhere, but it should be a close estimate.)\n",
    "</div>"
   ]
  },
  {
   "cell_type": "code",
   "execution_count": 11,
   "metadata": {},
   "outputs": [
    {
     "name": "stdout",
     "output_type": "stream",
     "text": [
      "ATGATGAT : 3\n",
      "GATGATGA : 2\n",
      "TGATGATG : 2\n"
     ]
    }
   ],
   "source": [
    "# Your code here\n",
    "\n",
    "reads = {}\n",
    "\n",
    "for x in sequence_reads:\n",
    "    if x in reads:\n",
    "        reads[x] += 1\n",
    "    else:\n",
    "        reads[x] = 1\n",
    "    \n",
    "#print(reads)\n",
    "max_val = max(reads.values())\n",
    "\n",
    "\n",
    "count = 0\n",
    "while count < 3:\n",
    "    for x in reads:\n",
    "        if reads[x] == max_val:\n",
    "            print(x, \":\", max_val)\n",
    "            count+=1\n",
    "            break\n",
    "    reads.pop(x)\n",
    "    max_val = max(reads.values())\n",
    "        \n",
    "        \n"
   ]
  },
  {
   "cell_type": "markdown",
   "metadata": {},
   "source": [
    "## Greedy Assembly"
   ]
  },
  {
   "cell_type": "markdown",
   "metadata": {},
   "source": [
    "Given a set of sequence fragments, the objective of assembly can be viewed as finding the shortest sequence that contains all the fragments.\n",
    "\n",
    "One of the approaches to assemble the genome from the given reads is a greedy algorithm:\n",
    "\n",
    "```\n",
    "while (len(fragments) > 1):\n",
    "   calculate pairwise alignments of all pairs of fragments\n",
    "   merge the two fragments with the largest overlap\n",
    "genome = fragment[0] # the single remaining fragment is the genome\n",
    "```\n"
   ]
  },
  {
   "cell_type": "markdown",
   "metadata": {},
   "source": [
    "<div class=\"alert alert-success\">\n",
    "    \n",
    "**Problem 4 (a)**. What would the runtime be of this algorithm, given $n$ $k$-mer reads? (If you are not sure how to express your answer to this question, review [_Cost of Computation_](https://computingbiology.github.io/complexity/).)\n",
    "    </div>"
   ]
  },
  {
   "cell_type": "markdown",
   "metadata": {},
   "source": [
    "<i>Answer</i>: O(n*n!)"
   ]
  },
  {
   "cell_type": "markdown",
   "metadata": {},
   "source": [
    "<div class=\"alert alert-success\">\n",
    "\n",
    "**Problem 4 (b)**. Is this algorithm guaranteed to find the correct genome? (A good answer will define what _correct_ means here, and explain why the algorithm is or is not guaranteed to find it.)"
   ]
  },
  {
   "cell_type": "markdown",
   "metadata": {},
   "source": [
    "<i>Answer</i>: No, this algorithm is not guaranteed to find the correct genome. You can have a \"correct\" solution where the solution satisfies the output wanted by the algorithm, but that does not necessarily mean it is the actually correct genome found in the Teletubby, which is what we actually want to find. If there are sequence repeats within the genome, then this algorithm could easily switch two fragments where their beginnings have the same sequence."
   ]
  },
  {
   "cell_type": "markdown",
   "metadata": {},
   "source": [
    "## Graph-based Assembly"
   ]
  },
  {
   "cell_type": "markdown",
   "metadata": {},
   "source": [
    "Graphs for genome assembly can be constructed in two ways:\n",
    "\n",
    "- de Bruijn graph: Processing $k-$mers as nodes, with $(k-1)-$mers as edges, and\n",
    "- Overlap graph: Processing $k-$mers as edges, with $(k-1)-$mers as nodes.\n",
    "\n",
    "A de Bruijn graph can be processed to find Euler paths, while Overlap graphs can be processed to find Hamiltonian paths. Both of these methods can be used reconstruct the original genome.\n",
    "\n",
    "<div class=\"alert alert-success\">\n",
    "    \n",
    "**Problem 5.**  Use one of these two techniques to reconstruct the TeleTubby genome from the provided sequence reads. \n",
    "    \n",
    "</div>\n",
    "    \n",
    "We have provided some template code below that may be helpful (but feel free to ignore this is you prefer)."
   ]
  },
  {
   "cell_type": "code",
   "execution_count": 19,
   "metadata": {},
   "outputs": [],
   "source": [
    "# Read reads into graph\n",
    "\n",
    "def build_graph(k_mers):\n",
    "    #edges = []    #\"ATGCTGGC\"\n",
    "    #nodes = set() # (\"TGCTGGC\", \"ATGCTGG\")\n",
    "    \n",
    "    in_dict = {}\n",
    "    out_dict = {}\n",
    "    start_node = \"\"\n",
    "    end_node = \"\"\n",
    "    \n",
    "    \n",
    "    for x in k_mers:\n",
    "        if x[0:7] not in out_dict:\n",
    "            out_dict[x[0:7]] = []\n",
    "        out_dict[x[0:7]].append(x)\n",
    "        if x[1:8] not in in_dict:\n",
    "            in_dict[x[1:8]] = []\n",
    "        in_dict[x[1:8]].append(x)\n",
    "        \n",
    "    for x in k_mers:\n",
    "        if x[0:7] not in in_dict:\n",
    "            start_node = x[0:7]\n",
    "        if x[1:8] not in out_dict:\n",
    "            end_node = x[1:8]\n",
    "            \n",
    "        #edges.append(x)\n",
    "        #nodes.add(x[0:7])\n",
    "        #nodes.add(x[1:8])\n",
    "    return in_dict, out_dict, start_node, end_node"
   ]
  },
  {
   "cell_type": "code",
   "execution_count": 20,
   "metadata": {},
   "outputs": [
    {
     "name": "stdout",
     "output_type": "stream",
     "text": [
      "CTCGAAT\n",
      "AGACCTG\n",
      "{'CGTTGCT': ['GCGTTGCT'], 'GACCGTG': ['CGACCGTG'], 'CCAGGGG': ['GCCAGGGG'], 'CATCCCT': ['CCATCCCT'], 'TTAGGCA': ['ATTAGGCA'], 'GGATAAG': ['AGGATAAG'], 'AGTCCGA': ['GAGTCCGA'], 'TGCTCCC': ['TTGCTCCC'], 'AAAGAGC': ['AAAAGAGC'], 'ACAATTT': ['GACAATTT'], 'CGATACG': ['CCGATACG'], 'AAAGCAT': ['CAAAGCAT'], 'CAAAGCA': ['GCAAAGCA'], 'TTGTGCT': ['CTTGTGCT'], 'AGCCACC': ['GAGCCACC'], 'CTGAGGA': ['CCTGAGGA'], 'CCACCAG': ['GCCACCAG'], 'AGCATAT': ['GAGCATAT'], 'ATGATGA': ['TATGATGA', 'GATGATGA', 'GATGATGA'], 'GCGGATT': ['GGCGGATT'], 'GAGATGA': ['TGAGATGA'], 'TCAGCAT': ['GTCAGCAT'], 'GGGTAAA': ['GGGGTAAA'], 'CAGCATT': ['TCAGCATT'], 'CTGACAA': ['CCTGACAA'], 'AGACCTG': ['CAGACCTG'], 'GTGAATG': ['TGTGAATG'], 'CCTGACA': ['ACCTGACA'], 'AAACGTG': ['TAAACGTG'], 'GCGTTGC': ['GGCGTTGC'], 'CTCCCGA': ['GCTCCCGA'], 'TACCGGC': ['TTACCGGC'], 'ATATGTC': ['CATATGTC'], 'CATATGT': ['GCATATGT'], 'GTAGGTA': ['CGTAGGTA'], 'GACTTGT': ['CGACTTGT'], 'TCCCGAC': ['CTCCCGAC'], 'CCCCCAG': ['CCCCCCAG'], 'TGATTGA': ['ATGATTGA'], 'GATTTCC': ['AGATTTCC'], 'TAGAATT': ['GTAGAATT'], 'GGTCAGA': ['TGGTCAGA'], 'TTGCTCG': ['ATTGCTCG'], 'TGACAAC': ['CTGACAAC'], 'TGCTCAC': ['GTGCTCAC'], 'GTCAGCA': ['TGTCAGCA'], 'GATGATT': ['TGATGATT'], 'TGTCAGC': ['ATGTCAGC'], 'ACCTGAC': ['CACCTGAC'], 'CGGCGTT': ['CCGGCGTT'], 'GGCGGAT': ['GGGCGGAT'], 'ATTTACC': ['AATTTACC', 'CATTTACC'], 'TCCGATA': ['GTCCGATA'], 'ATCGCGC': ['CATCGCGC'], 'ATGTCAG': ['TATGTCAG'], 'AGGACAA': ['TAGGACAA'], 'ACCCATC': ['TACCCATC'], 'TATGTCA': ['ATATGTCA'], 'CAGATTT': ['TCAGATTT'], 'GGGGTCG': ['AGGGGTCG'], 'CCGACTT': ['CCCGACTT'], 'ACGACCG': ['GACGACCG'], 'ATCACCC': ['CATCACCC'], 'GGATTCT': ['CGGATTCT'], 'GGGCGGA': ['CGGGCGGA'], 'ACGCAAA': ['GACGCAAA'], 'GCCACCA': ['AGCCACCA'], 'AGCATTT': ['CAGCATTT'], 'TGATGAG': ['TTGATGAG'], 'TCCATCC': ['TTCCATCC'], 'ATTGATG': ['GATTGATG'], 'GAATCGT': ['CGAATCGT'], 'AAGCATC': ['AAAGCATC'], 'TCTGACG': ['TTCTGACG'], 'TGGTCAG': ['GTGGTCAG'], 'ATTTCCA': ['GATTTCCA'], 'CGGGGTA': ['TCGGGGTA'], 'CCCTGAG': ['TCCCTGAG'], 'TAAAAGA': ['GTAAAAGA'], 'CTGACGC': ['TCTGACGC'], 'ACGGGCG': ['TACGGGCG'], 'CGCGCCA': ['GCGCGCCA'], 'TTATGAG': ['CTTATGAG'], 'AGGATTT': ['GAGGATTT'], 'TTACCCA': ['TTTACCCA'], 'TCGTAGG': ['GTCGTAGG'], 'GCATTTA': ['AGCATTTA'], 'TCGAATC': ['CTCGAATC'], 'CATCGCG': ['CCATCGCG'], 'GTGTGAA': ['CGTGTGAA'], 'GTGCTCA': ['TGTGCTCA'], 'AGTGGTC': ['CAGTGGTC'], 'TTCCATC': ['TTTCCATC'], 'TATGAGA': ['TTATGAGA'], 'TCGGAGC': ['CTCGGAGC'], 'CCCATCG': ['ACCCATCG'], 'CGACTTG': ['CCGACTTG'], 'CGGATTC': ['GCGGATTC'], 'GCCTGAC': ['AGCCTGAC'], 'GTTGCTC': ['CGTTGCTC'], 'CCGATAC': ['TCCGATAC'], 'GTAAACG': ['CGTAAACG'], 'CACCTGA': ['TCACCTGA'], 'GTAAAAG': ['GGTAAAAG'], 'TGCTCGG': ['TTGCTCGG'], 'GGCAGGA': ['AGGCAGGA'], 'CCATCCC': ['TCCATCCC'], 'AATTGCT': ['GAATTGCT'], 'GACGCCC': ['TGACGCCC'], 'GATATGA': ['TGATATGA'], 'ACCAGAC': ['CACCAGAC'], 'CCAGTGG': ['CCCAGTGG'], 'GATGACG': ['AGATGACG'], 'AAGCTTA': ['TAAGCTTA'], 'GGTAGGA': ['CGGTAGGA'], 'GTCGGGG': ['CGTCGGGG'], 'ATGATTG': ['GATGATTG'], 'GGCGTTG': ['CGGCGTTG'], 'ATCCCTG': ['CATCCCTG'], 'ATGAGTC': ['GATGAGTC'], 'TGATGAT': ['ATGATGAT', 'ATGATGAT', 'ATGATGAT'], 'CGTCGGG': ['CCGTCGGG'], 'AAGAGCC': ['AAAGAGCC'], 'CAGGGGT': ['CCAGGGGT'], 'GCTTATG': ['AGCTTATG'], 'ATGACGC': ['GATGACGC'], 'AATGTGT': ['GAATGTGT'], 'GGTAGAA': ['AGGTAGAA'], 'ATTGCTC': ['AATTGCTC'], 'GTAGGAC': ['GGTAGGAC'], 'AGGCAGG': ['TAGGCAGG'], 'CGAATCG': ['TCGAATCG'], 'GTGAGCA': ['CGTGAGCA'], 'TAGGTAG': ['GTAGGTAG'], 'CTCGGAG': ['GCTCGGAG'], 'CAGACCT': ['CCAGACCT'], 'GCGCGCC': ['CGCGCGCC'], 'CGCCAGG': ['GCGCCAGG'], 'CCCGTCG': ['CCCCGTCG'], 'GGACAAT': ['AGGACAAT'], 'GTAGAAT': ['GGTAGAAT'], 'TGAGCAT': ['GTGAGCAT'], 'AGATGAC': ['GAGATGAC'], 'ACGTGTG': ['AACGTGTG'], 'TAGGCAG': ['TTAGGCAG'], 'TTTACCG': ['ATTTACCG'], 'GATTTCG': ['GGATTTCG'], 'ACATTAG': ['AACATTAG'], 'CGGAGCC': ['TCGGAGCC'], 'AGCATCA': ['AAGCATCA'], 'CATTAGG': ['ACATTAGG'], 'TGACGAC': ['CTGACGAC'], 'GTCAGAT': ['GGTCAGAT'], 'TCGGGGT': ['GTCGGGGT'], 'ACGCCCC': ['GACGCCCC'], 'CCCCAGT': ['CCCCCAGT'], 'TTTACCC': ['ATTTACCC'], 'GTGGTCA': ['AGTGGTCA'], 'CATCACC': ['GCATCACC'], 'ACTTGTG': ['GACTTGTG'], 'CGTAAAC': ['TCGTAAAC'], 'GCTCGGA': ['TGCTCGGA'], 'GAGCCTG': ['AGAGCCTG'], 'TTGATGA': ['ATTGATGA'], 'CACCCCG': ['TCACCCCG'], 'TGAGTCC': ['ATGAGTCC'], 'TCACCTG': ['CTCACCTG'], 'TACGGGC': ['ATACGGGC'], 'GAATGTG': ['TGAATGTG'], 'ACCGTGA': ['GACCGTGA'], 'CGGGCGG': ['ACGGGCGG'], 'TCGCGCG': ['ATCGCGCG'], 'ATTAGGC': ['CATTAGGC'], 'TCACCCC': ['ATCACCCC'], 'TAGGACA': ['GTAGGACA'], 'CTTATGA': ['GCTTATGA'], 'GCAAAGC': ['CGCAAAGC'], 'TGTGAAT': ['GTGTGAAT'], 'AACGTGT': ['AAACGTGT'], 'TTTCCAT': ['ATTTCCAT'], 'TTACCGG': ['TTTACCGG'], 'CGGTAGG': ['TCGGTAGG'], 'CCGTGAG': ['ACCGTGAG'], 'TTCGGTA': ['TTTCGGTA'], 'GTGTGAT': ['TGTGTGAT'], 'ATAAGCT': ['GATAAGCT'], 'CGCGCGC': ['TCGCGCGC'], 'TCGGTAG': ['TTCGGTAG'], 'CGTGTGA': ['ACGTGTGA'], 'GCCCCCC': ['CGCCCCCC'], 'AGGATAA': ['CAGGATAA'], 'GACGCAA': ['TGACGCAA'], 'TGATATG': ['GTGATATG'], 'GATGATG': ['TGATGATG', 'TGATGATG'], 'CAGTGGT': ['CCAGTGGT'], 'GACAACA': ['TGACAACA'], 'AATTTAC': ['CAATTTAC'], 'CCCGACT': ['TCCCGACT'], 'GATAAGC': ['GGATAAGC'], 'GCCAGGG': ['CGCCAGGG'], 'CCCCCCC': ['GCCCCCCC'], 'CACCAGA': ['CCACCAGA'], 'GAGTCCG': ['TGAGTCCG'], 'AGAATTG': ['TAGAATTG'], 'GTGATAT': ['TGTGATAT'], 'AAAAGAG': ['TAAAAGAG'], 'TATGATG': ['ATATGATG'], 'ATGAGAT': ['TATGAGAT'], 'GGATTTC': ['AGGATTTC'], 'TGTGATA': ['GTGTGATA'], 'TGAGATG': ['ATGAGATG'], 'ATCGTAA': ['AATCGTAA'], 'GAGCATA': ['TGAGCATA'], 'AATCGTA': ['GAATCGTA'], 'ATGTGTG': ['AATGTGTG'], 'CAACATT': ['ACAACATT'], 'AACATTA': ['CAACATTA'], 'AGATTTC': ['CAGATTTC'], 'GACAATT': ['GGACAATT'], 'CAATTTA': ['ACAATTTA'], 'CGTGAGC': ['CCGTGAGC'], 'GGTCGTA': ['GGGTCGTA'], 'CTTGTGC': ['ACTTGTGC'], 'CGCAAAG': ['ACGCAAAG'], 'GCATATG': ['AGCATATG'], 'GAGCCAC': ['GGAGCCAC'], 'ACAACAT': ['GACAACAT'], 'CCCCGTC': ['ACCCCGTC'], 'ATTTCGG': ['GATTTCGG'], 'ATATGAT': ['GATATGAT'], 'TGTGTGA': ['ATGTGTGA'], 'CTCACCT': ['GCTCACCT'], 'ACCCCGT': ['CACCCCGT'], 'GATTCTG': ['GGATTCTG'], 'TGAATGT': ['GTGAATGT'], 'CATTTAC': ['GCATTTAC'], 'GATGAGT': ['TGATGAGT'], 'GGTAAAA': ['GGGTAAAA'], 'GCATCAC': ['AGCATCAC'], 'AGGGGTC': ['CAGGGGTC'], 'ATTCTGA': ['GATTCTGA'], 'GATACGG': ['CGATACGG'], 'TAAGCTT': ['ATAAGCTT'], 'AGGTAGA': ['TAGGTAGA'], 'CAGGATA': ['GCAGGATA'], 'CGACCGT': ['ACGACCGT'], 'CCGTCGG': ['CCCGTCGG'], 'GCTCACC': ['TGCTCACC'], 'TTCTGAC': ['ATTCTGAC'], 'TCGTAAA': ['ATCGTAAA'], 'CCCCCCA': ['CCCCCCCA'], 'CGTAGGT': ['TCGTAGGT'], 'GGGTCGT': ['GGGGTCGT'], 'CCCAGTG': ['CCCCAGTG'], 'GATTGAT': ['TGATTGAT'], 'CCAGACC': ['ACCAGACC'], 'CCTGAGG': ['CCCTGAGG'], 'CTGACGA': ['CCTGACGA'], 'GCAGGAT': ['GGCAGGAT'], 'GTCCGAT': ['AGTCCGAT'], 'AGCCTGA': ['GAGCCTGA'], 'TCCCTGA': ['ATCCCTGA'], 'GAGGATT': ['TGAGGATT'], 'GGGGTAA': ['CGGGGTAA'], 'TGACGCA': ['CTGACGCA'], 'GCTCCCG': ['TGCTCCCG'], 'TAAACGT': ['GTAAACGT'], 'GCGCCAG': ['CGCGCCAG'], 'TGTGCTC': ['TTGTGCTC'], 'TACCCAT': ['TTACCCAT'], 'GACGACC': ['TGACGACC'], 'TCAGATT': ['GTCAGATT'], 'ATACGGG': ['GATACGGG'], 'GTCGTAG': ['GGTCGTAG'], 'ACCGGCG': ['TACCGGCG'], 'AGAGCCT': ['AAGAGCCT'], 'GAATTGC': ['AGAATTGC'], 'CCTGACG': ['GCCTGACG'], 'CGCCCCC': ['ACGCCCCC'], 'GGAGCCA': ['CGGAGCCA'], 'CCGGCGT': ['ACCGGCGT'], 'AGCTTAT': ['AAGCTTAT'], 'CCATCGC': ['CCCATCGC'], 'TTGCTCC': ['GTTGCTCC'], 'TTTCGGT': ['ATTTCGGT'], 'TGAGGAT': ['CTGAGGAT'], 'TGACGCC': ['ATGACGCC']}\n",
      "{'GCGTTGC': ['GCGTTGCT'], 'CGACCGT': ['CGACCGTG'], 'GCCAGGG': ['GCCAGGGG'], 'CCATCCC': ['CCATCCCT'], 'ATTAGGC': ['ATTAGGCA'], 'AGGATAA': ['AGGATAAG'], 'GAGTCCG': ['GAGTCCGA'], 'TTGCTCC': ['TTGCTCCC'], 'AAAAGAG': ['AAAAGAGC'], 'GACAATT': ['GACAATTT'], 'CCGATAC': ['CCGATACG'], 'CAAAGCA': ['CAAAGCAT'], 'GCAAAGC': ['GCAAAGCA'], 'CTTGTGC': ['CTTGTGCT'], 'GAGCCAC': ['GAGCCACC'], 'CCTGAGG': ['CCTGAGGA'], 'GCCACCA': ['GCCACCAG'], 'GAGCATA': ['GAGCATAT'], 'TATGATG': ['TATGATGA'], 'GGCGGAT': ['GGCGGATT'], 'TGAGATG': ['TGAGATGA'], 'GTCAGCA': ['GTCAGCAT'], 'GGGGTAA': ['GGGGTAAA'], 'TCAGCAT': ['TCAGCATT'], 'CCTGACA': ['CCTGACAA'], 'CAGACCT': ['CAGACCTG'], 'TGTGAAT': ['TGTGAATG'], 'ACCTGAC': ['ACCTGACA'], 'TAAACGT': ['TAAACGTG'], 'GGCGTTG': ['GGCGTTGC'], 'GCTCCCG': ['GCTCCCGA'], 'TTACCGG': ['TTACCGGC'], 'CATATGT': ['CATATGTC'], 'GCATATG': ['GCATATGT'], 'CGTAGGT': ['CGTAGGTA'], 'CGACTTG': ['CGACTTGT'], 'CTCCCGA': ['CTCCCGAC'], 'CCCCCCA': ['CCCCCCAG'], 'ATGATTG': ['ATGATTGA'], 'AGATTTC': ['AGATTTCC'], 'GTAGAAT': ['GTAGAATT'], 'TGGTCAG': ['TGGTCAGA'], 'ATTGCTC': ['ATTGCTCG'], 'CTGACAA': ['CTGACAAC'], 'GTGCTCA': ['GTGCTCAC'], 'TGTCAGC': ['TGTCAGCA'], 'TGATGAT': ['TGATGATT', 'TGATGATG', 'TGATGATG'], 'ATGTCAG': ['ATGTCAGC'], 'CACCTGA': ['CACCTGAC'], 'CCGGCGT': ['CCGGCGTT'], 'GGGCGGA': ['GGGCGGAT'], 'AATTTAC': ['AATTTACC'], 'GTCCGAT': ['GTCCGATA'], 'CATCGCG': ['CATCGCGC'], 'TATGTCA': ['TATGTCAG'], 'TAGGACA': ['TAGGACAA'], 'TACCCAT': ['TACCCATC'], 'ATATGTC': ['ATATGTCA'], 'TCAGATT': ['TCAGATTT'], 'AGGGGTC': ['AGGGGTCG'], 'CCCGACT': ['CCCGACTT'], 'GACGACC': ['GACGACCG'], 'CATCACC': ['CATCACCC'], 'CGGATTC': ['CGGATTCT'], 'CGGGCGG': ['CGGGCGGA'], 'GACGCAA': ['GACGCAAA'], 'AGCCACC': ['AGCCACCA'], 'CAGCATT': ['CAGCATTT'], 'TTGATGA': ['TTGATGAG'], 'TTCCATC': ['TTCCATCC'], 'GATTGAT': ['GATTGATG'], 'CGAATCG': ['CGAATCGT'], 'AAAGCAT': ['AAAGCATC'], 'TTCTGAC': ['TTCTGACG'], 'GTGGTCA': ['GTGGTCAG'], 'GATTTCC': ['GATTTCCA'], 'TCGGGGT': ['TCGGGGTA'], 'TCCCTGA': ['TCCCTGAG'], 'GTAAAAG': ['GTAAAAGA'], 'TCTGACG': ['TCTGACGC'], 'TACGGGC': ['TACGGGCG'], 'GCGCGCC': ['GCGCGCCA'], 'CTTATGA': ['CTTATGAG'], 'GAGGATT': ['GAGGATTT'], 'TTTACCC': ['TTTACCCA'], 'GTCGTAG': ['GTCGTAGG'], 'AGCATTT': ['AGCATTTA'], 'CTCGAAT': ['CTCGAATC'], 'CCATCGC': ['CCATCGCG'], 'CGTGTGA': ['CGTGTGAA'], 'TGTGCTC': ['TGTGCTCA'], 'CAGTGGT': ['CAGTGGTC'], 'TTTCCAT': ['TTTCCATC'], 'TTATGAG': ['TTATGAGA'], 'CTCGGAG': ['CTCGGAGC'], 'ACCCATC': ['ACCCATCG'], 'CCGACTT': ['CCGACTTG'], 'GCGGATT': ['GCGGATTC'], 'AGCCTGA': ['AGCCTGAC'], 'CGTTGCT': ['CGTTGCTC'], 'TCCGATA': ['TCCGATAC'], 'CGTAAAC': ['CGTAAACG'], 'TCACCTG': ['TCACCTGA'], 'GGTAAAA': ['GGTAAAAG'], 'TTGCTCG': ['TTGCTCGG'], 'AGGCAGG': ['AGGCAGGA'], 'TCCATCC': ['TCCATCCC'], 'GAATTGC': ['GAATTGCT'], 'TGACGCC': ['TGACGCCC'], 'TGATATG': ['TGATATGA'], 'CACCAGA': ['CACCAGAC'], 'CCCAGTG': ['CCCAGTGG'], 'AGATGAC': ['AGATGACG'], 'TAAGCTT': ['TAAGCTTA'], 'CGGTAGG': ['CGGTAGGA'], 'CGTCGGG': ['CGTCGGGG'], 'GATGATT': ['GATGATTG'], 'CGGCGTT': ['CGGCGTTG'], 'CATCCCT': ['CATCCCTG'], 'CATTTAC': ['CATTTACC'], 'GATGAGT': ['GATGAGTC'], 'ATGATGA': ['ATGATGAT', 'ATGATGAT', 'ATGATGAT'], 'CCGTCGG': ['CCGTCGGG'], 'AAAGAGC': ['AAAGAGCC'], 'CCAGGGG': ['CCAGGGGT'], 'AGCTTAT': ['AGCTTATG'], 'GATGACG': ['GATGACGC'], 'GAATGTG': ['GAATGTGT'], 'AGGTAGA': ['AGGTAGAA'], 'AATTGCT': ['AATTGCTC'], 'GGTAGGA': ['GGTAGGAC'], 'TAGGCAG': ['TAGGCAGG'], 'TCGAATC': ['TCGAATCG'], 'CGTGAGC': ['CGTGAGCA'], 'GTAGGTA': ['GTAGGTAG'], 'GCTCGGA': ['GCTCGGAG'], 'CCAGACC': ['CCAGACCT'], 'CGCGCGC': ['CGCGCGCC'], 'GCGCCAG': ['GCGCCAGG'], 'CCCCGTC': ['CCCCGTCG'], 'AGGACAA': ['AGGACAAT'], 'GGTAGAA': ['GGTAGAAT'], 'GTGAGCA': ['GTGAGCAT'], 'GAGATGA': ['GAGATGAC'], 'AACGTGT': ['AACGTGTG'], 'TTAGGCA': ['TTAGGCAG'], 'ATTTACC': ['ATTTACCG', 'ATTTACCC'], 'GGATTTC': ['GGATTTCG'], 'AACATTA': ['AACATTAG'], 'TCGGAGC': ['TCGGAGCC'], 'AAGCATC': ['AAGCATCA'], 'ACATTAG': ['ACATTAGG'], 'CTGACGA': ['CTGACGAC'], 'GGTCAGA': ['GGTCAGAT'], 'GTCGGGG': ['GTCGGGGT'], 'GACGCCC': ['GACGCCCC'], 'CCCCCAG': ['CCCCCAGT'], 'AGTGGTC': ['AGTGGTCA'], 'GCATCAC': ['GCATCACC'], 'GACTTGT': ['GACTTGTG'], 'TCGTAAA': ['TCGTAAAC'], 'TGCTCGG': ['TGCTCGGA'], 'AGAGCCT': ['AGAGCCTG'], 'ATTGATG': ['ATTGATGA'], 'TCACCCC': ['TCACCCCG'], 'ATGAGTC': ['ATGAGTCC'], 'CTCACCT': ['CTCACCTG'], 'ATACGGG': ['ATACGGGC'], 'TGAATGT': ['TGAATGTG'], 'GACCGTG': ['GACCGTGA'], 'ACGGGCG': ['ACGGGCGG'], 'ATCGCGC': ['ATCGCGCG'], 'CATTAGG': ['CATTAGGC'], 'ATCACCC': ['ATCACCCC'], 'GTAGGAC': ['GTAGGACA'], 'GCTTATG': ['GCTTATGA'], 'CGCAAAG': ['CGCAAAGC'], 'GTGTGAA': ['GTGTGAAT'], 'GATGATG': ['GATGATGA', 'GATGATGA'], 'AAACGTG': ['AAACGTGT'], 'ATTTCCA': ['ATTTCCAT'], 'TTTACCG': ['TTTACCGG'], 'TCGGTAG': ['TCGGTAGG'], 'ACCGTGA': ['ACCGTGAG'], 'TTTCGGT': ['TTTCGGTA'], 'TGTGTGA': ['TGTGTGAT'], 'GATAAGC': ['GATAAGCT'], 'TCGCGCG': ['TCGCGCGC'], 'TTCGGTA': ['TTCGGTAG'], 'ACGTGTG': ['ACGTGTGA'], 'CGCCCCC': ['CGCCCCCC'], 'CAGGATA': ['CAGGATAA'], 'TGACGCA': ['TGACGCAA'], 'GTGATAT': ['GTGATATG'], 'CCAGTGG': ['CCAGTGGT'], 'TGACAAC': ['TGACAACA'], 'CAATTTA': ['CAATTTAC'], 'TCCCGAC': ['TCCCGACT'], 'GGATAAG': ['GGATAAGC'], 'CGCCAGG': ['CGCCAGGG'], 'GCCCCCC': ['GCCCCCCC'], 'CCACCAG': ['CCACCAGA'], 'TGAGTCC': ['TGAGTCCG'], 'TAGAATT': ['TAGAATTG'], 'TGTGATA': ['TGTGATAT'], 'TAAAAGA': ['TAAAAGAG'], 'ATATGAT': ['ATATGATG'], 'TATGAGA': ['TATGAGAT'], 'AGGATTT': ['AGGATTTC'], 'GTGTGAT': ['GTGTGATA'], 'ATGAGAT': ['ATGAGATG'], 'AATCGTA': ['AATCGTAA'], 'TGAGCAT': ['TGAGCATA'], 'GAATCGT': ['GAATCGTA'], 'AATGTGT': ['AATGTGTG'], 'ACAACAT': ['ACAACATT'], 'CAACATT': ['CAACATTA'], 'CAGATTT': ['CAGATTTC'], 'GGACAAT': ['GGACAATT'], 'ACAATTT': ['ACAATTTA'], 'CCGTGAG': ['CCGTGAGC'], 'GGGTCGT': ['GGGTCGTA'], 'ACTTGTG': ['ACTTGTGC'], 'ACGCAAA': ['ACGCAAAG'], 'AGCATAT': ['AGCATATG'], 'GGAGCCA': ['GGAGCCAC'], 'GACAACA': ['GACAACAT'], 'ACCCCGT': ['ACCCCGTC'], 'GATTTCG': ['GATTTCGG'], 'GATATGA': ['GATATGAT'], 'ATGTGTG': ['ATGTGTGA'], 'GCTCACC': ['GCTCACCT'], 'CACCCCG': ['CACCCCGT'], 'GGATTCT': ['GGATTCTG'], 'GTGAATG': ['GTGAATGT'], 'GCATTTA': ['GCATTTAC'], 'TGATGAG': ['TGATGAGT'], 'GGGTAAA': ['GGGTAAAA'], 'AGCATCA': ['AGCATCAC'], 'CAGGGGT': ['CAGGGGTC'], 'GATTCTG': ['GATTCTGA'], 'CGATACG': ['CGATACGG'], 'ATAAGCT': ['ATAAGCTT'], 'TAGGTAG': ['TAGGTAGA'], 'GCAGGAT': ['GCAGGATA'], 'ACGACCG': ['ACGACCGT'], 'CCCGTCG': ['CCCGTCGG'], 'TGCTCAC': ['TGCTCACC'], 'ATTCTGA': ['ATTCTGAC'], 'ATCGTAA': ['ATCGTAAA'], 'CCCCCCC': ['CCCCCCCA'], 'TCGTAGG': ['TCGTAGGT'], 'GGGGTCG': ['GGGGTCGT'], 'CCCCAGT': ['CCCCAGTG'], 'TGATTGA': ['TGATTGAT'], 'ACCAGAC': ['ACCAGACC'], 'CCCTGAG': ['CCCTGAGG'], 'CCTGACG': ['CCTGACGA'], 'GGCAGGA': ['GGCAGGAT'], 'AGTCCGA': ['AGTCCGAT'], 'GAGCCTG': ['GAGCCTGA'], 'ATCCCTG': ['ATCCCTGA'], 'TGAGGAT': ['TGAGGATT'], 'CGGGGTA': ['CGGGGTAA'], 'CTGACGC': ['CTGACGCA'], 'TGCTCCC': ['TGCTCCCG'], 'GTAAACG': ['GTAAACGT'], 'CGCGCCA': ['CGCGCCAG'], 'TTGTGCT': ['TTGTGCTC'], 'TTACCCA': ['TTACCCAT'], 'TGACGAC': ['TGACGACC'], 'GTCAGAT': ['GTCAGATT'], 'GATACGG': ['GATACGGG'], 'GGTCGTA': ['GGTCGTAG'], 'TACCGGC': ['TACCGGCG'], 'AAGAGCC': ['AAGAGCCT'], 'AGAATTG': ['AGAATTGC'], 'GCCTGAC': ['GCCTGACG'], 'ACGCCCC': ['ACGCCCCC'], 'CGGAGCC': ['CGGAGCCA'], 'ACCGGCG': ['ACCGGCGT'], 'AAGCTTA': ['AAGCTTAT'], 'CCCATCG': ['CCCATCGC'], 'GTTGCTC': ['GTTGCTCC'], 'ATTTCGG': ['ATTTCGGT'], 'CTGAGGA': ['CTGAGGAT'], 'ATGACGC': ['ATGACGCC']}\n"
     ]
    }
   ],
   "source": [
    "in_dict, out_dict, start_node, end_node = build_graph(sequence_reads)\n",
    "print(start_node)\n",
    "print(end_node)\n",
    "print(in_dict)\n",
    "print(out_dict)"
   ]
  },
  {
   "cell_type": "code",
   "execution_count": 14,
   "metadata": {},
   "outputs": [],
   "source": [
    "# Needed to properly visualize graphs\n",
    "%load_ext gvmagic"
   ]
  },
  {
   "cell_type": "code",
   "execution_count": 15,
   "metadata": {},
   "outputs": [
    {
     "ename": "NameError",
     "evalue": "name 'nodes' is not defined",
     "output_type": "error",
     "traceback": [
      "\u001b[0;31m---------------------------------------------------------------------------\u001b[0m",
      "\u001b[0;31mNameError\u001b[0m                                 Traceback (most recent call last)",
      "\u001b[0;32m<ipython-input-15-90e389b4cabf>\u001b[0m in \u001b[0;36m<module>\u001b[0;34m\u001b[0m\n\u001b[1;32m      1\u001b[0m \u001b[0;31m# Helper function to visualize graphs\u001b[0m\u001b[0;34m\u001b[0m\u001b[0;34m\u001b[0m\u001b[0;34m\u001b[0m\u001b[0m\n\u001b[0;32m----> 2\u001b[0;31m \u001b[0mget_ipython\u001b[0m\u001b[0;34m(\u001b[0m\u001b[0;34m)\u001b[0m\u001b[0;34m.\u001b[0m\u001b[0mrun_line_magic\u001b[0m\u001b[0;34m(\u001b[0m\u001b[0;34m'dotstr'\u001b[0m\u001b[0;34m,\u001b[0m \u001b[0;34m'utils.viz_graph(nodes, edges)'\u001b[0m\u001b[0;34m)\u001b[0m\u001b[0;34m\u001b[0m\u001b[0;34m\u001b[0m\u001b[0m\n\u001b[0m",
      "\u001b[0;32m//anaconda3/lib/python3.7/site-packages/IPython/core/interactiveshell.py\u001b[0m in \u001b[0;36mrun_line_magic\u001b[0;34m(self, magic_name, line, _stack_depth)\u001b[0m\n\u001b[1;32m   2311\u001b[0m                 \u001b[0mkwargs\u001b[0m\u001b[0;34m[\u001b[0m\u001b[0;34m'local_ns'\u001b[0m\u001b[0;34m]\u001b[0m \u001b[0;34m=\u001b[0m \u001b[0msys\u001b[0m\u001b[0;34m.\u001b[0m\u001b[0m_getframe\u001b[0m\u001b[0;34m(\u001b[0m\u001b[0mstack_depth\u001b[0m\u001b[0;34m)\u001b[0m\u001b[0;34m.\u001b[0m\u001b[0mf_locals\u001b[0m\u001b[0;34m\u001b[0m\u001b[0;34m\u001b[0m\u001b[0m\n\u001b[1;32m   2312\u001b[0m             \u001b[0;32mwith\u001b[0m \u001b[0mself\u001b[0m\u001b[0;34m.\u001b[0m\u001b[0mbuiltin_trap\u001b[0m\u001b[0;34m:\u001b[0m\u001b[0;34m\u001b[0m\u001b[0;34m\u001b[0m\u001b[0m\n\u001b[0;32m-> 2313\u001b[0;31m                 \u001b[0mresult\u001b[0m \u001b[0;34m=\u001b[0m \u001b[0mfn\u001b[0m\u001b[0;34m(\u001b[0m\u001b[0;34m*\u001b[0m\u001b[0margs\u001b[0m\u001b[0;34m,\u001b[0m \u001b[0;34m**\u001b[0m\u001b[0mkwargs\u001b[0m\u001b[0;34m)\u001b[0m\u001b[0;34m\u001b[0m\u001b[0;34m\u001b[0m\u001b[0m\n\u001b[0m\u001b[1;32m   2314\u001b[0m             \u001b[0;32mreturn\u001b[0m \u001b[0mresult\u001b[0m\u001b[0;34m\u001b[0m\u001b[0;34m\u001b[0m\u001b[0m\n\u001b[1;32m   2315\u001b[0m \u001b[0;34m\u001b[0m\u001b[0m\n",
      "\u001b[0;32m<//anaconda3/lib/python3.7/site-packages/decorator.py:decorator-gen-127>\u001b[0m in \u001b[0;36mdotstr\u001b[0;34m(self, line)\u001b[0m\n",
      "\u001b[0;32m//anaconda3/lib/python3.7/site-packages/IPython/core/magic.py\u001b[0m in \u001b[0;36m<lambda>\u001b[0;34m(f, *a, **k)\u001b[0m\n\u001b[1;32m    185\u001b[0m     \u001b[0;31m# but it's overkill for just that one bit of state.\u001b[0m\u001b[0;34m\u001b[0m\u001b[0;34m\u001b[0m\u001b[0;34m\u001b[0m\u001b[0m\n\u001b[1;32m    186\u001b[0m     \u001b[0;32mdef\u001b[0m \u001b[0mmagic_deco\u001b[0m\u001b[0;34m(\u001b[0m\u001b[0marg\u001b[0m\u001b[0;34m)\u001b[0m\u001b[0;34m:\u001b[0m\u001b[0;34m\u001b[0m\u001b[0;34m\u001b[0m\u001b[0m\n\u001b[0;32m--> 187\u001b[0;31m         \u001b[0mcall\u001b[0m \u001b[0;34m=\u001b[0m \u001b[0;32mlambda\u001b[0m \u001b[0mf\u001b[0m\u001b[0;34m,\u001b[0m \u001b[0;34m*\u001b[0m\u001b[0ma\u001b[0m\u001b[0;34m,\u001b[0m \u001b[0;34m**\u001b[0m\u001b[0mk\u001b[0m\u001b[0;34m:\u001b[0m \u001b[0mf\u001b[0m\u001b[0;34m(\u001b[0m\u001b[0;34m*\u001b[0m\u001b[0ma\u001b[0m\u001b[0;34m,\u001b[0m \u001b[0;34m**\u001b[0m\u001b[0mk\u001b[0m\u001b[0;34m)\u001b[0m\u001b[0;34m\u001b[0m\u001b[0;34m\u001b[0m\u001b[0m\n\u001b[0m\u001b[1;32m    188\u001b[0m \u001b[0;34m\u001b[0m\u001b[0m\n\u001b[1;32m    189\u001b[0m         \u001b[0;32mif\u001b[0m \u001b[0mcallable\u001b[0m\u001b[0;34m(\u001b[0m\u001b[0marg\u001b[0m\u001b[0;34m)\u001b[0m\u001b[0;34m:\u001b[0m\u001b[0;34m\u001b[0m\u001b[0;34m\u001b[0m\u001b[0m\n",
      "\u001b[0;32m//anaconda3/lib/python3.7/site-packages/gvmagic.py\u001b[0m in \u001b[0;36mdotstr\u001b[0;34m(self, line)\u001b[0m\n\u001b[1;32m     53\u001b[0m     \u001b[0;34m@\u001b[0m\u001b[0mline_magic\u001b[0m\u001b[0;34m\u001b[0m\u001b[0;34m\u001b[0m\u001b[0m\n\u001b[1;32m     54\u001b[0m     \u001b[0;32mdef\u001b[0m \u001b[0mdotstr\u001b[0m\u001b[0;34m(\u001b[0m\u001b[0mself\u001b[0m\u001b[0;34m,\u001b[0m \u001b[0mline\u001b[0m\u001b[0;34m)\u001b[0m\u001b[0;34m:\u001b[0m\u001b[0;34m\u001b[0m\u001b[0;34m\u001b[0m\u001b[0m\n\u001b[0;32m---> 55\u001b[0;31m         \u001b[0mself\u001b[0m\u001b[0;34m.\u001b[0m\u001b[0m_from_str\u001b[0m\u001b[0;34m(\u001b[0m\u001b[0mline\u001b[0m\u001b[0;34m,\u001b[0m \u001b[0;34m'dot'\u001b[0m\u001b[0;34m)\u001b[0m\u001b[0;34m\u001b[0m\u001b[0;34m\u001b[0m\u001b[0m\n\u001b[0m\u001b[1;32m     56\u001b[0m \u001b[0;34m\u001b[0m\u001b[0m\n\u001b[1;32m     57\u001b[0m     \u001b[0;34m@\u001b[0m\u001b[0mline_magic\u001b[0m\u001b[0;34m\u001b[0m\u001b[0;34m\u001b[0m\u001b[0m\n",
      "\u001b[0;32m//anaconda3/lib/python3.7/site-packages/gvmagic.py\u001b[0m in \u001b[0;36m_from_str\u001b[0;34m(self, line, layout_engine)\u001b[0m\n\u001b[1;32m    153\u001b[0m \u001b[0;34m\u001b[0m\u001b[0m\n\u001b[1;32m    154\u001b[0m     \u001b[0;32mdef\u001b[0m \u001b[0m_from_str\u001b[0m\u001b[0;34m(\u001b[0m\u001b[0mself\u001b[0m\u001b[0;34m,\u001b[0m \u001b[0mline\u001b[0m\u001b[0;34m,\u001b[0m \u001b[0mlayout_engine\u001b[0m\u001b[0;34m)\u001b[0m\u001b[0;34m:\u001b[0m\u001b[0;34m\u001b[0m\u001b[0;34m\u001b[0m\u001b[0m\n\u001b[0;32m--> 155\u001b[0;31m         \u001b[0ms\u001b[0m \u001b[0;34m=\u001b[0m \u001b[0mself\u001b[0m\u001b[0;34m.\u001b[0m\u001b[0mshell\u001b[0m\u001b[0;34m.\u001b[0m\u001b[0mev\u001b[0m\u001b[0;34m(\u001b[0m\u001b[0mline\u001b[0m\u001b[0;34m)\u001b[0m\u001b[0;34m\u001b[0m\u001b[0;34m\u001b[0m\u001b[0m\n\u001b[0m\u001b[1;32m    156\u001b[0m         \u001b[0mdata\u001b[0m \u001b[0;34m=\u001b[0m \u001b[0mrun_graphviz\u001b[0m\u001b[0;34m(\u001b[0m\u001b[0ms\u001b[0m\u001b[0;34m,\u001b[0m \u001b[0mlayout_engine\u001b[0m\u001b[0;34m)\u001b[0m\u001b[0;34m\u001b[0m\u001b[0;34m\u001b[0m\u001b[0m\n\u001b[1;32m    157\u001b[0m         \u001b[0;32mif\u001b[0m \u001b[0mdata\u001b[0m\u001b[0;34m:\u001b[0m\u001b[0;34m\u001b[0m\u001b[0;34m\u001b[0m\u001b[0m\n",
      "\u001b[0;32m//anaconda3/lib/python3.7/site-packages/IPython/core/interactiveshell.py\u001b[0m in \u001b[0;36mev\u001b[0;34m(self, expr)\u001b[0m\n\u001b[1;32m   2668\u001b[0m         \"\"\"\n\u001b[1;32m   2669\u001b[0m         \u001b[0;32mwith\u001b[0m \u001b[0mself\u001b[0m\u001b[0;34m.\u001b[0m\u001b[0mbuiltin_trap\u001b[0m\u001b[0;34m:\u001b[0m\u001b[0;34m\u001b[0m\u001b[0;34m\u001b[0m\u001b[0m\n\u001b[0;32m-> 2670\u001b[0;31m             \u001b[0;32mreturn\u001b[0m \u001b[0meval\u001b[0m\u001b[0;34m(\u001b[0m\u001b[0mexpr\u001b[0m\u001b[0;34m,\u001b[0m \u001b[0mself\u001b[0m\u001b[0;34m.\u001b[0m\u001b[0muser_global_ns\u001b[0m\u001b[0;34m,\u001b[0m \u001b[0mself\u001b[0m\u001b[0;34m.\u001b[0m\u001b[0muser_ns\u001b[0m\u001b[0;34m)\u001b[0m\u001b[0;34m\u001b[0m\u001b[0;34m\u001b[0m\u001b[0m\n\u001b[0m\u001b[1;32m   2671\u001b[0m \u001b[0;34m\u001b[0m\u001b[0m\n\u001b[1;32m   2672\u001b[0m     \u001b[0;32mdef\u001b[0m \u001b[0msafe_execfile\u001b[0m\u001b[0;34m(\u001b[0m\u001b[0mself\u001b[0m\u001b[0;34m,\u001b[0m \u001b[0mfname\u001b[0m\u001b[0;34m,\u001b[0m \u001b[0;34m*\u001b[0m\u001b[0mwhere\u001b[0m\u001b[0;34m,\u001b[0m \u001b[0mexit_ignore\u001b[0m\u001b[0;34m=\u001b[0m\u001b[0;32mFalse\u001b[0m\u001b[0;34m,\u001b[0m \u001b[0mraise_exceptions\u001b[0m\u001b[0;34m=\u001b[0m\u001b[0;32mFalse\u001b[0m\u001b[0;34m,\u001b[0m \u001b[0mshell_futures\u001b[0m\u001b[0;34m=\u001b[0m\u001b[0;32mFalse\u001b[0m\u001b[0;34m)\u001b[0m\u001b[0;34m:\u001b[0m\u001b[0;34m\u001b[0m\u001b[0;34m\u001b[0m\u001b[0m\n",
      "\u001b[0;32m<string>\u001b[0m in \u001b[0;36m<module>\u001b[0;34m\u001b[0m\n",
      "\u001b[0;31mNameError\u001b[0m: name 'nodes' is not defined"
     ]
    }
   ],
   "source": [
    "# Helper function to visualize graphs\n",
    "%dotstr utils.viz_graph(nodes, edges, start_node, end_node)"
   ]
  },
  {
   "cell_type": "code",
   "execution_count": 16,
   "metadata": {},
   "outputs": [],
   "source": [
    "# Main assembly algorithm\n",
    "\n",
    "def assemble_sequence(in_dict, out_dict, start_node, end_node):\n",
    "    assembled_sequence = start_node\n",
    "    current = start_node\n",
    "    #is_node = False\n",
    "    while current != end_node:\n",
    "        if len(out_dict[current] == 1):\n",
    "            assembled_sequence += out_dict[current][0][-1] # add next letter to sequence\n",
    "            temp = out_dict[current][0][1:8] ## set temp variable for next node\n",
    "            out_dict[current].remove(out_dict[current][0]) # remove next edge you take from dict\n",
    "            current = temp # set new current var\n",
    "        else if len(out_dict[current] > 1):\n",
    "            \n",
    "        #current = edges[node]\n",
    "        #assembled_sequence += current\n",
    "        #edges.remove(current)\n",
    "        #for x in range(len(edges)):\n",
    "            #e = edges[x]\n",
    "        #    if current[1:8] == edges[x][0:7]:\n",
    "        #        node = x\n",
    "        #        break\n",
    "            \n",
    "    return assembled_sequence"
   ]
  },
  {
   "cell_type": "code",
   "execution_count": null,
   "metadata": {},
   "outputs": [],
   "source": [
    "# Output assembled sequence\n",
    "# Hint: Sequence is 200 nucleotides long\n",
    "\n",
    "assmebled_seq = assemble_sequence(in_dict, out_dict, start_node, end_node)\n",
    "print(\"hi\")\n",
    "print(assmebled_seq)"
   ]
  },
  {
   "cell_type": "markdown",
   "metadata": {},
   "source": [
    "<div class=\"alert alert-success\"> \n",
    "    \n",
    "**Problem 6.** Which of the two assembly methods did you use for problem 5, and why? (Hint: consider how the costs scale with the number of reads.)\n",
    "    \n",
    "</div>"
   ]
  },
  {
   "cell_type": "markdown",
   "metadata": {},
   "source": [
    "## Part 2: Sequencing SARS-CoV-2 virus"
   ]
  },
  {
   "cell_type": "markdown",
   "metadata": {},
   "source": [
    "Let's move on from TeleTubbies to real-world organisms. For this problem, you'll assemble a genome for a variant of the SARS-CoV-2 virus. You're given reads from <i>actual</i> genome sequencing runs in the provided `SARS-CoV2.fastq` file. The file is based on the first Covid genome that was submitted on 5 January 2020: [https://www.ncbi.nlm.nih.gov/nuccore/NC_045512](https://www.ncbi.nlm.nih.gov/nuccore/NC_045512) But, you should be reconstructing a sequence from the provided reads without looking at the source sequence.\n",
    "\n",
    "<div class=\"alert alert-success\">\n",
    "    \n",
    "**Problem 7.**  Reconstruct the SATS-CoV2 genome from the provided sequence reads using $k=25$. \n",
    "    \n",
    "</div>\n",
    "\n",
    "You can re-use your implementation from Problem 5 and simply run it on the new data (depending on what you did for Problem 5, that might be enough to solve this problem). \n",
    "\n",
    "Print out your reconstructed sequence to a file `output.txt` (and add this file to the repo you submit). For this part, we will still assume that all the reads are error-free. "
   ]
  },
  {
   "cell_type": "code",
   "execution_count": 50,
   "metadata": {},
   "outputs": [],
   "source": [
    "# Read sequence reads\n",
    "sequence_reads_covid, qualities_covid = utils.read_fastq('SARS-CoV2.fastq')"
   ]
  },
  {
   "cell_type": "code",
   "execution_count": 51,
   "metadata": {},
   "outputs": [],
   "source": [
    "# Read reads into graph\n",
    "nodes_covid, edges_covid = build_graph(sequence_reads_covid)"
   ]
  },
  {
   "cell_type": "code",
   "execution_count": 52,
   "metadata": {},
   "outputs": [
    {
     "ename": "IndexError",
     "evalue": "list index out of range",
     "output_type": "error",
     "traceback": [
      "\u001b[0;31m---------------------------------------------------------------------------\u001b[0m",
      "\u001b[0;31mIndexError\u001b[0m                                Traceback (most recent call last)",
      "\u001b[0;32m<ipython-input-52-fdea3af50469>\u001b[0m in \u001b[0;36m<module>\u001b[0;34m\u001b[0m\n\u001b[1;32m      1\u001b[0m \u001b[0;31m# Call main assembly algorithm\u001b[0m\u001b[0;34m\u001b[0m\u001b[0;34m\u001b[0m\u001b[0;34m\u001b[0m\u001b[0m\n\u001b[0;32m----> 2\u001b[0;31m \u001b[0massmebled_covid_seq\u001b[0m \u001b[0;34m=\u001b[0m \u001b[0massemble_sequence\u001b[0m\u001b[0;34m(\u001b[0m\u001b[0mnodes_covid\u001b[0m\u001b[0;34m,\u001b[0m \u001b[0medges_covid\u001b[0m\u001b[0;34m)\u001b[0m\u001b[0;34m\u001b[0m\u001b[0;34m\u001b[0m\u001b[0m\n\u001b[0m",
      "\u001b[0;32m<ipython-input-47-7202caaabcbd>\u001b[0m in \u001b[0;36massemble_sequence\u001b[0;34m(nodes, edges)\u001b[0m\n\u001b[1;32m      7\u001b[0m     \u001b[0;31m#is_node = False\u001b[0m\u001b[0;34m\u001b[0m\u001b[0;34m\u001b[0m\u001b[0;34m\u001b[0m\u001b[0m\n\u001b[1;32m      8\u001b[0m     \u001b[0;32mwhile\u001b[0m \u001b[0;34m(\u001b[0m\u001b[0mlen\u001b[0m\u001b[0;34m(\u001b[0m\u001b[0medges\u001b[0m\u001b[0;34m)\u001b[0m \u001b[0;34m!=\u001b[0m \u001b[0;36m0\u001b[0m\u001b[0;34m)\u001b[0m\u001b[0;34m:\u001b[0m\u001b[0;34m\u001b[0m\u001b[0;34m\u001b[0m\u001b[0m\n\u001b[0;32m----> 9\u001b[0;31m         \u001b[0mcurrent\u001b[0m \u001b[0;34m=\u001b[0m \u001b[0medges\u001b[0m\u001b[0;34m[\u001b[0m\u001b[0mnode\u001b[0m\u001b[0;34m]\u001b[0m\u001b[0;34m\u001b[0m\u001b[0;34m\u001b[0m\u001b[0m\n\u001b[0m\u001b[1;32m     10\u001b[0m         \u001b[0massembled_sequence\u001b[0m \u001b[0;34m+=\u001b[0m \u001b[0mcurrent\u001b[0m\u001b[0;34m\u001b[0m\u001b[0;34m\u001b[0m\u001b[0m\n\u001b[1;32m     11\u001b[0m         \u001b[0medges\u001b[0m\u001b[0;34m.\u001b[0m\u001b[0mremove\u001b[0m\u001b[0;34m(\u001b[0m\u001b[0mcurrent\u001b[0m\u001b[0;34m)\u001b[0m\u001b[0;34m\u001b[0m\u001b[0;34m\u001b[0m\u001b[0m\n",
      "\u001b[0;31mIndexError\u001b[0m: list index out of range"
     ]
    }
   ],
   "source": [
    "# Call main assembly algorithm\n",
    "assmebled_covid_seq = assemble_sequence(nodes_covid, edges_covid)"
   ]
  },
  {
   "cell_type": "code",
   "execution_count": null,
   "metadata": {},
   "outputs": [],
   "source": [
    "# Write assembled sequence to file\n",
    "with open(\"output.txt\", \"w\") as f:\n",
    "    f.write(assmebled_covid_seq)"
   ]
  },
  {
   "cell_type": "markdown",
   "metadata": {},
   "source": [
    "# Part 3: Error-Aware Assembly (Challenge Problem)"
   ]
  },
  {
   "cell_type": "markdown",
   "metadata": {},
   "source": [
    "<div class=\"alert alert-warning\">\n",
    "    This problem is a \"Challenge Problem\". This means it is a problem of unknown difficulty that might be quite challenging (unlike the earlier problems, we don't have a reference solution for this one, or a clear idea how hard it might be). We do hope all students will at least attempt this and that more ambitious students will work hard to solve it and learn interesting things by the attempt (whether or not it is successful), but not get frustrated if you can't get to the desired answer.  As a \"Challenge Problem\" it means that you shouldn't be worried if you are not able to solve this, though, and you can get full expected credit on this assignment without answering it.\n",
    "</div>\n",
    "\n",
    "\n",
    "In the parts above, we assumed error-free reads while assembling $k$-mers. As much as we'd like that, actual reads can (and do) have errors, captured by their Phred scores. \n",
    "\n",
    "For this question, you're given raw, actual reads from sequencing runs. Download the reads from this file:\n",
    "https://sra-pub-sars-cov2.s3.amazonaws.com/sra-src/SRR11528307/ABS2-LN-R1_cleaned_paired.fastq.gz.  \n",
    "\n",
    "\n",
    "<div class=\"alert alert-success\">\n",
    "    \n",
    "**Problem 8 (Challenge).** Give the reads in the linked fastq file above, including their Phred33 quality score, assemble the most likely genome. Your solution should output the assembled sequence in `challenge.txt`. Provide a brief explantion of how your algorithm works and interesting things you learned in developing it.\n",
    "    \n",
    "</div>\n",
    "    \n",
    "This is an open-ended question. You are free to use any approach to deal with the issue. Make sure you provide your code, along with any assumptions you may have."
   ]
  },
  {
   "cell_type": "markdown",
   "metadata": {},
   "source": [
    "_Write a description of your algorithm, and things you learned from working on this here._"
   ]
  },
  {
   "cell_type": "code",
   "execution_count": null,
   "metadata": {},
   "outputs": [],
   "source": [
    "# implementation "
   ]
  },
  {
   "cell_type": "markdown",
   "metadata": {},
   "source": [
    "   <div class=\"alert alert-block alert-danger\">\n",
    "    <center>\n",
    "        \n",
    " **Remember to follow the submission directions above to submit your assignment by 4:59pm on Tuesday, 8 February.**\n",
    "    \n",
    " </center>\n",
    " </div>"
   ]
  }
 ],
 "metadata": {
  "kernelspec": {
   "display_name": "Python 3",
   "language": "python",
   "name": "python3"
  },
  "language_info": {
   "codemirror_mode": {
    "name": "ipython",
    "version": 3
   },
   "file_extension": ".py",
   "mimetype": "text/x-python",
   "name": "python",
   "nbconvert_exporter": "python",
   "pygments_lexer": "ipython3",
   "version": "3.7.3"
  }
 },
 "nbformat": 4,
 "nbformat_minor": 5
}
